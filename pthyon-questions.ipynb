{
 "cells": [
  {
   "cell_type": "markdown",
   "id": "59378d85-79d4-4089-8bc6-dfc244a72119",
   "metadata": {},
   "source": [
    "13/12/2022\n",
    "\n",
    "●\tWAP to accept two numbers from the user and display their sum\n",
    "\n",
    "●\tWAP to accept radius of a Circle from the user and calculate area and circumference\n",
    "\n",
    "●\tWAP to accept roll number , grade and percentage as input from the user and display it back\n",
    "\n",
    "●\tWrite a program that asks the user to enter his/her name and age. Print out a message , displaying the user’s name along with the year in which they will turn 100 years old.\n",
    "●\tWrite a program that asks the user to input 2 integers and adds them . Accept both the numbers in a single line only\n",
    "\n",
    "●\tWrite a Python program which accepts the user's first and last name and print them in reverse order with a space between them."
   ]
  },
  {
   "cell_type": "code",
   "execution_count": 3,
   "id": "7c3fed99-023d-4a8f-89c8-e6287fa13023",
   "metadata": {},
   "outputs": [
    {
     "name": "stdin",
     "output_type": "stream",
     "text": [
      "Write first number: 2\n",
      "Write second number: 5\n"
     ]
    },
    {
     "name": "stdout",
     "output_type": "stream",
     "text": [
      "Sum of given numbers is: 7\n"
     ]
    }
   ],
   "source": [
    "#WAP to accept two numbers from the user and display their sum\n",
    "no1=int(input(\"Write first number:\"))\n",
    "no2=int(input(\"Write second number:\"))\n",
    "sum=no1+no2\n",
    "print(\"Sum of given numbers is:\",sum)"
   ]
  },
  {
   "cell_type": "code",
   "execution_count": 6,
   "id": "287f30cc-f5b8-4593-a27c-452d19e2226d",
   "metadata": {},
   "outputs": [
    {
     "name": "stdin",
     "output_type": "stream",
     "text": [
      "Enter radius: 4\n"
     ]
    },
    {
     "name": "stdout",
     "output_type": "stream",
     "text": [
      "Area of Circle is: 50.285714285714285 \n",
      " Circumference of Circle is: 25.142857142857142\n"
     ]
    }
   ],
   "source": [
    "#WAP to accept radius of a Circle from the user and calculate area and circumference\n",
    "r=float(input(\"Enter radius:\"))\n",
    "area=22/7*r**2\n",
    "circum=2*22/7*r\n",
    "print(\"Area of Circle is:\",area,\"\\n\",\"Circumference of Circle is:\",circum)"
   ]
  },
  {
   "cell_type": "code",
   "execution_count": 7,
   "id": "9a136523-ccd3-4d84-936f-5070f4072b86",
   "metadata": {},
   "outputs": [
    {
     "name": "stdin",
     "output_type": "stream",
     "text": [
      "Enter Rollnumber: abc123\n",
      "Enter Grade: grade 6\n",
      "Enter Percentage: 90.5\n"
     ]
    },
    {
     "name": "stdout",
     "output_type": "stream",
     "text": [
      "Rollnum: abc123 \n",
      " Grade: grade 6 \n",
      " Percentage: 90.5\n"
     ]
    }
   ],
   "source": [
    "#WAP to accept roll number , grade and percentage as input from the user and display it back\n",
    "rollnum=input(\"Enter Rollnumber:\")\n",
    "grade=input(\"Enter Grade:\")\n",
    "percent=float(input(\"Enter Percentage:\"))\n",
    "print(\"Rollnum:\",rollnum,\"\\n\",\"Grade:\",grade,\"\\n\",\"Percentage:\",percent)\n"
   ]
  },
  {
   "cell_type": "code",
   "execution_count": 18,
   "id": "857b112b-7294-4043-a540-e43192896dfe",
   "metadata": {},
   "outputs": [
    {
     "name": "stdin",
     "output_type": "stream",
     "text": [
      "Enter Name: Sarath\n",
      "Enter Age: 45\n"
     ]
    },
    {
     "name": "stdout",
     "output_type": "stream",
     "text": [
      "Sarath ,by the year 2077, you will be 100 years old\n"
     ]
    }
   ],
   "source": [
    "#Write a program that asks the user to enter his/her name and age. Print out a message , displaying the user’s name along with the year in which they will turn 100 years old.\n",
    "Name=input(\"Enter Name:\")\n",
    "Age=int(input(\"Enter Age:\"))\n",
    "from datetime import date\n",
    "yr100=date.today().year + 100-Age\n",
    "print(\"{} ,by the year {}, you will be 100 years old\".format(Name,yr100))"
   ]
  },
  {
   "cell_type": "code",
   "execution_count": 23,
   "id": "3bf25369-d958-4130-852b-dada54658c1c",
   "metadata": {},
   "outputs": [
    {
     "name": "stdin",
     "output_type": "stream",
     "text": [
      "Enter numbers to be added 22 33\n"
     ]
    },
    {
     "name": "stdout",
     "output_type": "stream",
     "text": [
      "Sum of the digits is: 55\n"
     ]
    }
   ],
   "source": [
    "#Write a program that asks the user to input 2 integers and adds them . Accept both the numbers in a single line only\n",
    "no1,no2=input(\"Enter numbers to be added\").split()\n",
    "print(\"Sum of the digits is:\",int(no1)+int(no2))\n"
   ]
  },
  {
   "cell_type": "code",
   "execution_count": null,
   "id": "296aa6ed-5b03-4a91-b789-b115eb010cc6",
   "metadata": {},
   "outputs": [],
   "source": [
    "#●\tWrite a Python program which accepts the user's first and last name and print them in reverse order with a space between them.\n",
    "firstname=input(\"Enter first name:\")\n",
    "lastname=input(\"Enter last name:\")\n",
    "print(lastname,\" \",firstname)"
   ]
  },
  {
   "cell_type": "markdown",
   "id": "e982ef3f-e5aa-4e7c-99f6-a249fc03a139",
   "metadata": {},
   "source": [
    "15/12/2022\n",
    "●\tWAP to accept an integer from the user and check whether it is an even or odd \n",
    "●\tWAP to accept a character from the user and check whether it is a capital letter or small letter. Assume user will input only alphabets\n",
    "●\tWAP to accept a character from the user and check whether it is a capital letter or small letter or a digit or some special symbol\n",
    "●\tWAP to accept 3 integers from the user and without using any logical operator and cascading of relational operators , find out the greatest number amongst them\n"
   ]
  },
  {
   "cell_type": "code",
   "execution_count": 32,
   "id": "ea6c2704-3212-41d8-9a57-13b23214839a",
   "metadata": {},
   "outputs": [
    {
     "name": "stdin",
     "output_type": "stream",
     "text": [
      "Enter number: 77\n"
     ]
    },
    {
     "name": "stdout",
     "output_type": "stream",
     "text": [
      "77  is an odd number\n"
     ]
    }
   ],
   "source": [
    "#WAP to accept an integer from the user and check whether it is an even or odd \n",
    "no=int(input(\"Enter number:\"))\n",
    "if no%2==0:\n",
    "    print(no,\" is an even number\")\n",
    "else:\n",
    "    print(no,\" is an odd number\")"
   ]
  },
  {
   "cell_type": "code",
   "execution_count": 39,
   "id": "3ccf8886-d982-4c33-a1cc-0b171409ebd7",
   "metadata": {},
   "outputs": [
    {
     "name": "stdin",
     "output_type": "stream",
     "text": [
      "Enter an alphabet: T\n"
     ]
    },
    {
     "name": "stdout",
     "output_type": "stream",
     "text": [
      "T  is capital letter\n"
     ]
    }
   ],
   "source": [
    "#WAP to accept a character from the user and check whether it is a capital letter or small letter. Assume user will input only alphabets\n",
    "alp=input(\"Enter an alphabet:\")\n",
    "if alp.isupper():\n",
    "    print(alp,\" is capital letter\")\n",
    "else:\n",
    "    print(alp,\" is small letter\")"
   ]
  },
  {
   "cell_type": "code",
   "execution_count": 43,
   "id": "f3b538c1-e531-4374-9e0a-020538b3f95e",
   "metadata": {},
   "outputs": [
    {
     "name": "stdin",
     "output_type": "stream",
     "text": [
      "Enter an alphabet: @\n"
     ]
    },
    {
     "name": "stdout",
     "output_type": "stream",
     "text": [
      "@  is symbol\n"
     ]
    }
   ],
   "source": [
    "#WAP to accept a character from the user and check whether it is a capital letter or small letter or a digit or some special symbol\n",
    "alp=input(\"Enter an alphabet:\")\n",
    "if alp.isalpha():\n",
    "    if alp.isupper():\n",
    "        print(alp,\" is capital letter\")\n",
    "    else:\n",
    "        print(alp,\" is small letter\")    \n",
    "elif alp.isdigit():\n",
    "    print(alp,\" is number\") \n",
    "else:\n",
    "    print(alp,\" is symbol\")"
   ]
  },
  {
   "cell_type": "code",
   "execution_count": 45,
   "id": "8abd04cf-56a4-41c6-9826-69a99488967f",
   "metadata": {},
   "outputs": [
    {
     "name": "stdin",
     "output_type": "stream",
     "text": [
      "Enter 3 digits 66 7 202\n"
     ]
    },
    {
     "name": "stdout",
     "output_type": "stream",
     "text": [
      "Greatest number is: 202\n"
     ]
    }
   ],
   "source": [
    "#WAP to accept 3 integers from the user and without using any logical operator and cascading of relational operators , find out the greatest number amongst them\n",
    "x,y,z=input(\"Enter 3 digits\").split()\n",
    "print(\"Greatest number is:\",max(int(x),int(y),int(z)))"
   ]
  },
  {
   "cell_type": "markdown",
   "id": "86e4fe91-b7f9-44de-b5a7-8b09ceb3f19e",
   "metadata": {},
   "source": [
    "●\tWAP to accept a year from the user and check whether it is a leap year or not.\n",
    "An year is a leap year if:\n",
    "It is exactly divisible by 4 and at the same time not\n",
    "divisible by 100\n",
    "OR\n",
    "It is divisible by 400\n"
   ]
  },
  {
   "cell_type": "code",
   "execution_count": 51,
   "id": "8a743e42-1683-4a91-906b-73fbe2428a25",
   "metadata": {},
   "outputs": [
    {
     "name": "stdin",
     "output_type": "stream",
     "text": [
      "Enter year to check whether leap year: 1900\n"
     ]
    },
    {
     "name": "stdout",
     "output_type": "stream",
     "text": [
      "1900  is not a leap year\n"
     ]
    }
   ],
   "source": [
    "#●\tWAP to accept a year from the user and check whether it is a leap year or not.\n",
    "yr=int(input(\"Enter year to check whether leap year:\"))\n",
    "if (yr%4==0 and yr%100!=0) or (yr%400==0):\n",
    "    print(yr,\" is a leap year\")\n",
    "else:\n",
    "    print(yr,\" is not a leap year\")\n"
   ]
  },
  {
   "cell_type": "markdown",
   "id": "92891916-278f-4350-a09a-c069e35123ad",
   "metadata": {},
   "source": [
    "●\tYou have to develop a number guessing game. Following are the steps needed:\n",
    "●\tAt first , the program will generate a random integer secretly.\n",
    "\n",
    "●\tNow it will ask the user to guess that number .\n",
    "\n",
    "●\tIf the user guessed it correctly then the program prints “Congratulations! You guessed it right” .\n",
    "\n",
    "●\tBut if the number guessed by the user is larger than the secret number then program should print “Number too large” and , if the number guessed by the user is smaller than the secret number then the program should print “Number too small” \n",
    "\n",
    "●\tThis should continue until the user guesses the number correctly or quits .\n",
    "\n",
    "●\tIf the user wants to quit in between he will have to type 0 or negative number\n"
   ]
  },
  {
   "cell_type": "code",
   "execution_count": 57,
   "id": "87195848-200b-47b7-9ade-e69e0656c819",
   "metadata": {},
   "outputs": [
    {
     "name": "stdin",
     "output_type": "stream",
     "text": [
      "Enter Number: 7\n"
     ]
    },
    {
     "name": "stdout",
     "output_type": "stream",
     "text": [
      "Number too big\n"
     ]
    },
    {
     "name": "stdin",
     "output_type": "stream",
     "text": [
      "Enter Number again: 5\n"
     ]
    },
    {
     "name": "stdout",
     "output_type": "stream",
     "text": [
      "Number too small\n"
     ]
    },
    {
     "name": "stdin",
     "output_type": "stream",
     "text": [
      "Enter Number again: 6\n"
     ]
    },
    {
     "name": "stdout",
     "output_type": "stream",
     "text": [
      "Congratulations! You guessed it right.\n"
     ]
    }
   ],
   "source": [
    "import random \n",
    "\n",
    "randno=random.randint(0,10)\n",
    "no=int(input(\"Enter Number:\"))\n",
    "while (no>0):\n",
    "    if no<randno:\n",
    "        print(\"Number too small\")\n",
    "        no=int(input(\"Enter Number again:\"))\n",
    "    elif no>randno:\n",
    "        print(\"Number too big\")\n",
    "        no=int(input(\"Enter Number again:\"))\n",
    "    elif no==randno:\n",
    "        print(\"Congratulations! You guessed it right.\")   \n",
    "        break\n",
    "else:\n",
    "    print(\"Bye\")\n",
    "    "
   ]
  },
  {
   "cell_type": "code",
   "execution_count": 60,
   "id": "30230231-d35b-4f17-80ff-79c6c035a90b",
   "metadata": {},
   "outputs": [
    {
     "name": "stdin",
     "output_type": "stream",
     "text": [
      "Enter string: sravya\n"
     ]
    },
    {
     "name": "stdout",
     "output_type": "stream",
     "text": [
      "s\n",
      "r\n",
      "v\n",
      "y\n"
     ]
    }
   ],
   "source": [
    "#●\tWrite a program to accept a string from the user and display it vertically but don’t display the vowels in it.\n",
    "word=input(\"Enter string:\")\n",
    "for i in word:\n",
    "    if i not in ('a','e','i','o','u'):\n",
    "         print(i)\n"
   ]
  },
  {
   "cell_type": "code",
   "execution_count": 67,
   "id": "9cffd06f-f3f0-4913-a71d-d3f70cbc14dc",
   "metadata": {},
   "outputs": [
    {
     "name": "stdin",
     "output_type": "stream",
     "text": [
      "Enter number: 2\n",
      "Enter next number: 3\n",
      "Enter next number: -1\n",
      "Enter another positive number: -5\n",
      "Enter another positive number: 0\n"
     ]
    },
    {
     "name": "stdout",
     "output_type": "stream",
     "text": [
      "Total: 5\n"
     ]
    }
   ],
   "source": [
    "#Write a program to continuously accept integers from the user until the user types 0 and as soon as 0 is entered display sum of all the nos entered before 0\n",
    "no=int(input(\"Enter number:\"))\n",
    "total=0\n",
    "while(no!=0):\n",
    "    if no>0:\n",
    "        total=total+no\n",
    "        no=int(input(\"Enter next number:\"))\n",
    "    else:\n",
    "        no=int(input(\"Enter another positive number:\")) \n",
    "print(\"Total:\",total)\n",
    "        "
   ]
  },
  {
   "cell_type": "code",
   "execution_count": 71,
   "id": "f759c1aa-8e35-4c7f-b2dc-bd9ed940148d",
   "metadata": {},
   "outputs": [
    {
     "name": "stdin",
     "output_type": "stream",
     "text": [
      "Enter number: 5\n"
     ]
    },
    {
     "name": "stdout",
     "output_type": "stream",
     "text": [
      "Sum is: 15\n"
     ]
    }
   ],
   "source": [
    "#●\tWrite a program to accept an integer from the user and display the sum of all the numbers from 1 to that number.\n",
    "no=int(input(\"Enter number:\"))\n",
    "total=0\n",
    "for i in range(1,no+1):\n",
    "    total=total+i\n",
    "print(\"Sum is:\",total)    "
   ]
  },
  {
   "cell_type": "code",
   "execution_count": 75,
   "id": "86b6671a-73c9-416e-86e1-99960aba65fb",
   "metadata": {},
   "outputs": [
    {
     "name": "stdin",
     "output_type": "stream",
     "text": [
      "Enter number: 6\n"
     ]
    },
    {
     "name": "stdout",
     "output_type": "stream",
     "text": [
      "factorial is: 720\n"
     ]
    }
   ],
   "source": [
    "#Write a program to accept an integer from the user and calculate its factorial\n",
    "no=int(input(\"Enter number:\"))\n",
    "fact=1\n",
    "for i in range(1,no+1):\n",
    "    fact=fact*i\n",
    "print(\"factorial is:\",fact)    "
   ]
  },
  {
   "cell_type": "markdown",
   "id": "6706e8f3-c6b8-4e6f-a4bb-91bfcb7cf6bf",
   "metadata": {},
   "source": [
    "Write a program to print the following pattern\n",
    "\n",
    "* * *\n",
    "* * *\n",
    "* * *\n",
    "* * *"
   ]
  },
  {
   "cell_type": "code",
   "execution_count": 78,
   "id": "db5ff90b-c0be-4855-8726-380c1721ff09",
   "metadata": {},
   "outputs": [
    {
     "name": "stdout",
     "output_type": "stream",
     "text": [
      "* * * \n",
      "* * * \n",
      "* * * \n",
      "* * * \n"
     ]
    }
   ],
   "source": [
    "for i in range(4):\n",
    "    print('* '*3)"
   ]
  },
  {
   "cell_type": "markdown",
   "id": "d395e309-7182-404c-a3ad-fba25f46dc70",
   "metadata": {},
   "source": [
    "Write a program to print the following pattern\n",
    "\n",
    "* \n",
    "* * \n",
    "* * *\n",
    "* * * *"
   ]
  },
  {
   "cell_type": "code",
   "execution_count": 80,
   "id": "42e63c45-bcff-47ee-b561-10b5837a4fbc",
   "metadata": {},
   "outputs": [
    {
     "name": "stdout",
     "output_type": "stream",
     "text": [
      "\n",
      "* \n",
      "* * \n",
      "* * * \n",
      "* * * * \n"
     ]
    }
   ],
   "source": [
    "for i in range(5):\n",
    "    print('* '*i)"
   ]
  },
  {
   "cell_type": "code",
   "execution_count": null,
   "id": "91ccaa8c-4c90-4a65-a92b-95ea909fd5d3",
   "metadata": {},
   "outputs": [],
   "source": [
    "Write a program to print the following pattern\n",
    "\n",
    "* * * *\n",
    "* * *\n",
    "* * \n",
    "* "
   ]
  },
  {
   "cell_type": "code",
   "execution_count": 81,
   "id": "7634f4a2-1446-4e07-a5fc-cf1c45fd21c1",
   "metadata": {},
   "outputs": [
    {
     "name": "stdout",
     "output_type": "stream",
     "text": [
      "* * * * \n",
      "* * * \n",
      "* * \n",
      "* \n",
      "\n"
     ]
    }
   ],
   "source": [
    "for i in reversed(range(5)):\n",
    "    print('* '*i)"
   ]
  },
  {
   "cell_type": "code",
   "execution_count": 84,
   "id": "eb68beba-5983-4f06-9c6f-56b496014e46",
   "metadata": {},
   "outputs": [
    {
     "name": "stdin",
     "output_type": "stream",
     "text": [
      "Enter number: 4\n"
     ]
    },
    {
     "name": "stdout",
     "output_type": "stream",
     "text": [
      "1\n",
      "2\n",
      "3\n",
      "4\n"
     ]
    },
    {
     "name": "stdin",
     "output_type": "stream",
     "text": [
      "Enter next number: 5\n"
     ]
    },
    {
     "name": "stdout",
     "output_type": "stream",
     "text": [
      "1\n",
      "2\n",
      "3\n",
      "4\n",
      "5\n"
     ]
    },
    {
     "name": "stdin",
     "output_type": "stream",
     "text": [
      "Enter next number: 2\n"
     ]
    },
    {
     "name": "stdout",
     "output_type": "stream",
     "text": [
      "1\n",
      "2\n"
     ]
    },
    {
     "name": "stdin",
     "output_type": "stream",
     "text": [
      "Enter next number: 0\n"
     ]
    }
   ],
   "source": [
    "#●\tWrite a program to accept an integer from the user and display all the numbers from 1 to that number. Repeat the process until the user enters 0.\n",
    "no=int(input(\"Enter number:\"))\n",
    "while(no!=0):\n",
    "    for i in range(1,no+1):\n",
    "        print(i)\n",
    "    no=int(input(\"Enter next number:\"))\n",
    "        "
   ]
  },
  {
   "cell_type": "code",
   "execution_count": null,
   "id": "2e403283-6806-4ed0-806c-d4bea30f59eb",
   "metadata": {},
   "outputs": [],
   "source": []
  }
 ],
 "metadata": {
  "kernelspec": {
   "display_name": "Python 3 (ipykernel)",
   "language": "python",
   "name": "python3"
  },
  "language_info": {
   "codemirror_mode": {
    "name": "ipython",
    "version": 3
   },
   "file_extension": ".py",
   "mimetype": "text/x-python",
   "name": "python",
   "nbconvert_exporter": "python",
   "pygments_lexer": "ipython3",
   "version": "3.10.6"
  }
 },
 "nbformat": 4,
 "nbformat_minor": 5
}
